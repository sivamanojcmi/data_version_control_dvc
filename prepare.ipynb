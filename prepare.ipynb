{
 "cells": [
  {
   "cell_type": "markdown",
   "metadata": {},
   "source": [
    "#### D Siva Manoj MDS202216  Assignment 2"
   ]
  },
  {
   "cell_type": "markdown",
   "metadata": {},
   "source": [
    "## Setup"
   ]
  },
  {
   "cell_type": "code",
   "execution_count": 1,
   "metadata": {},
   "outputs": [],
   "source": [
    "import os"
   ]
  },
  {
   "cell_type": "code",
   "execution_count": 2,
   "metadata": {},
   "outputs": [
    {
     "name": "stdout",
     "output_type": "stream",
     "text": [
      "Initialized empty Git repository in C:/Users/win/Desktop/Data_Science/4th_sem/Applied_ML/assignment_02/.git/\n",
      "Initialized DVC repository.\n",
      "\n",
      "You can now commit the changes to git.\n",
      "\n",
      "+---------------------------------------------------------------------+\n",
      "|                                                                     |\n",
      "|        DVC has enabled anonymous aggregate usage analytics.         |\n",
      "|     Read the analytics documentation (and how to opt-out) here:     |\n",
      "|             <https://dvc.org/doc/user-guide/analytics>              |\n",
      "|                                                                     |\n",
      "+---------------------------------------------------------------------+\n",
      "\n",
      "What's next?\n",
      "------------\n",
      "- Check out the documentation: <https://dvc.org/doc>\n",
      "- Get help and share ideas: <https://dvc.org/chat>\n",
      "- Star us on GitHub: <https://github.com/iterative/dvc>\n"
     ]
    }
   ],
   "source": [
    "!git init\n",
    "!dvc init --subdir"
   ]
  },
  {
   "cell_type": "code",
   "execution_count": 3,
   "metadata": {},
   "outputs": [
    {
     "name": "stdout",
     "output_type": "stream",
     "text": [
      "On branch master\n",
      "\n",
      "No commits yet\n",
      "\n",
      "Changes to be committed:\n",
      "  (use \"git rm --cached <file>...\" to unstage)\n",
      "\tnew file:   .dvc/.gitignore\n",
      "\tnew file:   .dvc/config\n",
      "\tnew file:   .dvcignore\n",
      "\n",
      "Untracked files:\n",
      "  (use \"git add <file>...\" to include in what will be committed)\n",
      "\tprepare.ipynb\n",
      "\n"
     ]
    },
    {
     "name": "stdout",
     "output_type": "stream",
     "text": [
      "[master (root-commit) 6b0a29f] DVC initialized\n",
      " 3 files changed, 6 insertions(+)\n",
      " create mode 100644 .dvc/.gitignore\n",
      " create mode 100644 .dvc/config\n",
      " create mode 100644 .dvcignore\n"
     ]
    }
   ],
   "source": [
    "!git status\n",
    "!git commit -m \"DVC initialized\""
   ]
  },
  {
   "cell_type": "markdown",
   "metadata": {},
   "source": [
    "#### Setting google drive as remote storage"
   ]
  },
  {
   "cell_type": "code",
   "execution_count": 4,
   "metadata": {},
   "outputs": [
    {
     "name": "stdout",
     "output_type": "stream",
     "text": [
      "Setting 'remote_storage' as a default remote.\n"
     ]
    }
   ],
   "source": [
    "!dvc remote add -d remote_storage gdrive://1qmHWUWrdxtVzVNPsztMlrmmRHSaVnheb -f"
   ]
  },
  {
   "cell_type": "code",
   "execution_count": 5,
   "metadata": {},
   "outputs": [
    {
     "name": "stdout",
     "output_type": "stream",
     "text": [
      "On branch master\n",
      "Changes to be committed:\n",
      "  (use \"git restore --staged <file>...\" to unstage)\n",
      "\tmodified:   .dvc/config\n",
      "\n",
      "Untracked files:\n",
      "  (use \"git add <file>...\" to include in what will be committed)\n",
      "\tprepare.ipynb\n",
      "\n",
      "[master e1e95cf] Updated remote storage\n",
      " 1 file changed, 4 insertions(+)\n"
     ]
    }
   ],
   "source": [
    "!git add .dvc/config\n",
    "!git status\n",
    "!git commit -m \"Updated remote storage\""
   ]
  },
  {
   "cell_type": "markdown",
   "metadata": {},
   "source": [
    "## Import Libraries"
   ]
  },
  {
   "cell_type": "code",
   "execution_count": 6,
   "metadata": {},
   "outputs": [
    {
     "name": "stderr",
     "output_type": "stream",
     "text": [
      "[nltk_data] Downloading package wordnet to\n",
      "[nltk_data]     C:\\Users\\win\\AppData\\Roaming\\nltk_data...\n",
      "[nltk_data]   Package wordnet is already up-to-date!\n",
      "[nltk_data] Downloading package punkt to\n",
      "[nltk_data]     C:\\Users\\win\\AppData\\Roaming\\nltk_data...\n",
      "[nltk_data]   Package punkt is already up-to-date!\n",
      "[nltk_data] Downloading package stopwords to\n",
      "[nltk_data]     C:\\Users\\win\\AppData\\Roaming\\nltk_data...\n",
      "[nltk_data]   Package stopwords is already up-to-date!\n"
     ]
    },
    {
     "data": {
      "text/plain": [
       "True"
      ]
     },
     "execution_count": 6,
     "metadata": {},
     "output_type": "execute_result"
    }
   ],
   "source": [
    "%matplotlib inline\n",
    "import matplotlib.pyplot as plt\n",
    "import pandas as pd\n",
    "import numpy as np\n",
    "import string\n",
    "import re\n",
    "from wordcloud import WordCloud\n",
    "\n",
    "from sklearn.model_selection import train_test_split\n",
    "\n",
    "import nltk\n",
    "from nltk.tokenize import WhitespaceTokenizer\n",
    "from nltk.stem import WordNetLemmatizer\n",
    "from nltk.corpus import stopwords\n",
    "from nltk.stem import WordNetLemmatizer\n",
    "from nltk.tokenize import word_tokenize\n",
    "\n",
    "nltk.download(\"wordnet\")\n",
    "nltk.download('punkt')\n",
    "nltk.download('stopwords')\n"
   ]
  },
  {
   "cell_type": "markdown",
   "metadata": {},
   "source": [
    "## Pre-process data"
   ]
  },
  {
   "cell_type": "code",
   "execution_count": 7,
   "metadata": {},
   "outputs": [],
   "source": [
    "stop_words = set(stopwords.words('english'))\n",
    "stop_words.add('subject')\n",
    "stop_words.add('re')\n",
    "\n",
    "def preprocess_spam_data(data):\n",
    "    # Convert to lowercase\n",
    "    data['text'] = data['text'].str.lower()\n",
    "\n",
    "    # Remove punctuation\n",
    "    data['text'] = data['text'].apply(lambda x: x.translate(str.maketrans('', '', string.punctuation)))\n",
    "\n",
    "    ## remove numbers from the text column\n",
    "    data[\"text\"] = data[\"text\"].apply(lambda x: re.sub(r\"\\d+\", \"\", x))\n",
    "\n",
    "    # Tokenize\n",
    "    data['text'] = data['text'].apply(word_tokenize)\n",
    "\n",
    "    # Remove stop words\n",
    "    data['text'] = data['text'].apply(lambda x: [word for word in x if word.lower() not in stop_words])\n",
    "\n",
    "    # Lemmatization\n",
    "    lemmatizer = WordNetLemmatizer()\n",
    "    data['text'] = data['text'].apply(lambda x: [lemmatizer.lemmatize(word) for word in x])\n",
    "\n",
    "    ## remove single character words\n",
    "    data[\"text\"] = data[\"text\"].apply(lambda x: [word for word in x if len(word)>1])\n",
    "\n",
    "    # Join tokens back into strings\n",
    "    data['text'] = data['text'].apply(lambda x: ' '.join(x))\n",
    "\n",
    "    return data\n"
   ]
  },
  {
   "cell_type": "markdown",
   "metadata": {},
   "source": [
    "#### Train Test Validation Split"
   ]
  },
  {
   "cell_type": "code",
   "execution_count": 8,
   "metadata": {},
   "outputs": [],
   "source": [
    "def train_val_test(data, seed):\n",
    "    train_val, test = train_test_split(data, test_size = 0.12, random_state = seed)\n",
    "    train, val = train_test_split(train_val, test_size = 0.09, random_state = seed) \n",
    "    return train, val, test"
   ]
  },
  {
   "cell_type": "code",
   "execution_count": 9,
   "metadata": {},
   "outputs": [],
   "source": [
    "## load the raw dataset\n",
    "data = pd.read_csv(r\"C:\\Users\\win\\Desktop\\Data_Science\\4th_sem\\Applied_ML\\spam_detection\\emails.csv\")\n",
    "## clean and preprocess the data\n",
    "raw_data = preprocess_spam_data(data)\n",
    "## split data into train, validation and test datasets with specific random seed\n",
    "train, val, test = train_val_test(raw_data, 1)"
   ]
  },
  {
   "cell_type": "markdown",
   "metadata": {},
   "source": [
    "#### Save the data"
   ]
  },
  {
   "cell_type": "code",
   "execution_count": 10,
   "metadata": {},
   "outputs": [],
   "source": [
    "## save the pre-processed raw data in the raw folder\n",
    "raw_data.to_csv(\"raw_data.csv\", header = True, index = False)\n",
    "\n",
    "## save the split data in the prepared folder\n",
    "train.to_csv(\"train.csv\", header = True, index = False)\n",
    "val.to_csv(\"validation.csv\", header = True, index = False)\n",
    "test.to_csv(\"test.csv\", header = True, index = False)"
   ]
  },
  {
   "cell_type": "markdown",
   "metadata": {},
   "source": [
    "## Track data versions with dvc"
   ]
  },
  {
   "cell_type": "markdown",
   "metadata": {},
   "source": [
    "### For raw data"
   ]
  },
  {
   "cell_type": "code",
   "execution_count": 11,
   "metadata": {},
   "outputs": [
    {
     "name": "stdout",
     "output_type": "stream",
     "text": [
      "\n",
      "To track the changes with git, run:\n",
      "\n",
      "\tgit add .gitignore raw_data.csv.dvc\n",
      "\n",
      "To enable auto staging, run:\n",
      "\n",
      "\tdvc config core.autostage true\n"
     ]
    },
    {
     "name": "stderr",
     "output_type": "stream",
     "text": [
      "⠋ Checking graph\n",
      "\n"
     ]
    }
   ],
   "source": [
    "!dvc add raw_data.csv"
   ]
  },
  {
   "cell_type": "code",
   "execution_count": 12,
   "metadata": {},
   "outputs": [
    {
     "name": "stdout",
     "output_type": "stream",
     "text": [
      "On branch master\n",
      "Untracked files:\n",
      "  (use \"git add <file>...\" to include in what will be committed)\n",
      "\t.gitignore\n",
      "\tprepare.ipynb\n",
      "\traw_data.csv.dvc\n",
      "\ttest.csv\n",
      "\ttrain.csv\n",
      "\tvalidation.csv\n",
      "\n",
      "nothing added to commit but untracked files present (use \"git add\" to track)\n"
     ]
    },
    {
     "name": "stdout",
     "output_type": "stream",
     "text": [
      "[master 28b4684] updates raw data\n",
      " 2 files changed, 6 insertions(+)\n",
      " create mode 100644 .gitignore\n",
      " create mode 100644 raw_data.csv.dvc\n"
     ]
    }
   ],
   "source": [
    "!git status\n",
    "!git add raw_data.csv.dvc .gitignore\n",
    "!git commit -m \"updates raw data\""
   ]
  },
  {
   "cell_type": "markdown",
   "metadata": {},
   "source": [
    "### For split data"
   ]
  },
  {
   "cell_type": "code",
   "execution_count": 13,
   "metadata": {},
   "outputs": [
    {
     "name": "stdout",
     "output_type": "stream",
     "text": [
      "\n",
      "To track the changes with git, run:\n",
      "\n",
      "\tgit add test.csv.dvc train.csv.dvc validation.csv.dvc .gitignore\n",
      "\n",
      "To enable auto staging, run:\n",
      "\n",
      "\tdvc config core.autostage true\n"
     ]
    },
    {
     "name": "stderr",
     "output_type": "stream",
     "text": [
      "⠋ Checking graph\n",
      "\n"
     ]
    }
   ],
   "source": [
    "!dvc add train.csv validation.csv test.csv"
   ]
  },
  {
   "cell_type": "code",
   "execution_count": 14,
   "metadata": {},
   "outputs": [
    {
     "name": "stdout",
     "output_type": "stream",
     "text": [
      "On branch master\n",
      "Changes not staged for commit:\n",
      "  (use \"git add <file>...\" to update what will be committed)\n",
      "  (use \"git restore <file>...\" to discard changes in working directory)\n",
      "\tmodified:   .gitignore\n",
      "\n",
      "Untracked files:\n",
      "  (use \"git add <file>...\" to include in what will be committed)\n",
      "\tprepare.ipynb\n",
      "\ttest.csv.dvc\n",
      "\ttrain.csv.dvc\n",
      "\tvalidation.csv.dvc\n",
      "\n",
      "no changes added to commit (use \"git add\" and/or \"git commit -a\")\n",
      "[master e439e93] initialize data versioning with dvc\n",
      " 4 files changed, 18 insertions(+)\n",
      " create mode 100644 test.csv.dvc\n",
      " create mode 100644 train.csv.dvc\n",
      " create mode 100644 validation.csv.dvc\n"
     ]
    }
   ],
   "source": [
    "!git status\n",
    "!git add train.csv.dvc validation.csv.dvc test.csv.dvc .gitignore\n",
    "!git commit -m \"initialize data versioning with dvc\""
   ]
  },
  {
   "cell_type": "code",
   "execution_count": 15,
   "metadata": {},
   "outputs": [
    {
     "name": "stdout",
     "output_type": "stream",
     "text": [
      "4 files pushed\n"
     ]
    }
   ],
   "source": [
    "!dvc push"
   ]
  },
  {
   "cell_type": "markdown",
   "metadata": {},
   "source": [
    "### Data versions with different random seed"
   ]
  },
  {
   "cell_type": "code",
   "execution_count": 16,
   "metadata": {},
   "outputs": [],
   "source": [
    "train, val, test = train_val_test(raw_data, 2)"
   ]
  },
  {
   "cell_type": "code",
   "execution_count": 17,
   "metadata": {},
   "outputs": [],
   "source": [
    "## save the data\n",
    "train.to_csv(\"train.csv\", header = True, index = False)\n",
    "val.to_csv(\"validation.csv\", header = True, index = False)\n",
    "test.to_csv(\"test.csv\", header = True, index = False)"
   ]
  },
  {
   "cell_type": "code",
   "execution_count": 18,
   "metadata": {},
   "outputs": [
    {
     "name": "stdout",
     "output_type": "stream",
     "text": [
      "\n",
      "To track the changes with git, run:\n",
      "\n",
      "\tgit add test.csv.dvc validation.csv.dvc train.csv.dvc\n",
      "\n",
      "To enable auto staging, run:\n",
      "\n",
      "\tdvc config core.autostage true\n"
     ]
    },
    {
     "name": "stderr",
     "output_type": "stream",
     "text": [
      "⠋ Checking graph\n",
      "\n"
     ]
    }
   ],
   "source": [
    "## add updated data splits to DVC\n",
    "!dvc add train.csv validation.csv test.csv"
   ]
  },
  {
   "cell_type": "code",
   "execution_count": 19,
   "metadata": {},
   "outputs": [
    {
     "name": "stdout",
     "output_type": "stream",
     "text": [
      "On branch master\n",
      "Changes not staged for commit:\n",
      "  (use \"git add <file>...\" to update what will be committed)\n",
      "  (use \"git restore <file>...\" to discard changes in working directory)\n",
      "\tmodified:   test.csv.dvc\n",
      "\tmodified:   train.csv.dvc\n",
      "\tmodified:   validation.csv.dvc\n",
      "\n",
      "Untracked files:\n",
      "  (use \"git add <file>...\" to include in what will be committed)\n",
      "\tprepare.ipynb\n",
      "\n",
      "no changes added to commit (use \"git add\" and/or \"git commit -a\")\n"
     ]
    },
    {
     "name": "stdout",
     "output_type": "stream",
     "text": [
      "[master 505b90c] updated data splits with new random seed\n",
      " 3 files changed, 6 insertions(+), 6 deletions(-)\n"
     ]
    }
   ],
   "source": [
    "!git status\n",
    "!git add train.csv.dvc validation.csv.dvc test.csv.dvc .gitignore\n",
    "!git commit -m \"updated data splits with new random seed\""
   ]
  },
  {
   "cell_type": "code",
   "execution_count": 20,
   "metadata": {},
   "outputs": [
    {
     "name": "stdout",
     "output_type": "stream",
     "text": [
      "3 files pushed\n"
     ]
    }
   ],
   "source": [
    "## push the new data split version to remote storage\n",
    "!dvc push"
   ]
  },
  {
   "cell_type": "markdown",
   "metadata": {},
   "source": [
    "## Chechout the versions"
   ]
  },
  {
   "cell_type": "markdown",
   "metadata": {},
   "source": [
    "#### First split"
   ]
  },
  {
   "cell_type": "code",
   "execution_count": 21,
   "metadata": {},
   "outputs": [
    {
     "name": "stdout",
     "output_type": "stream",
     "text": [
      "commit 505b90c32c7ea95882aa358e38f49380cd060e02\n",
      "Author: sivamanojcmi <sivamanoj@cmi.ac.in>\n",
      "Date:   Wed Feb 21 22:46:04 2024 +0530\n",
      "\n",
      "    updated data splits with new random seed\n",
      "\n",
      "commit e439e93c2952b561badb40c56076562c61d416d7\n",
      "Author: sivamanojcmi <sivamanoj@cmi.ac.in>\n",
      "Date:   Wed Feb 21 22:45:05 2024 +0530\n",
      "\n",
      "    initialize data versioning with dvc\n",
      "\n",
      "commit 28b46843fc3ee13d41adfef59157dee0dce629fb\n",
      "Author: sivamanojcmi <sivamanoj@cmi.ac.in>\n",
      "Date:   Wed Feb 21 22:44:29 2024 +0530\n",
      "\n",
      "    updates raw data\n",
      "\n",
      "commit e1e95cf4ae5c3b11ade9046903ccc133351c1594\n",
      "Author: sivamanojcmi <sivamanoj@cmi.ac.in>\n",
      "Date:   Wed Feb 21 22:41:55 2024 +0530\n",
      "\n",
      "    Updated remote storage\n",
      "\n",
      "commit 6b0a29f69631e4e03b775bdf3c1625a17b02f9da\n",
      "Author: sivamanojcmi <sivamanoj@cmi.ac.in>\n",
      "Date:   Wed Feb 21 22:40:28 2024 +0530\n",
      "\n",
      "    DVC initialized\n"
     ]
    }
   ],
   "source": [
    "!git log"
   ]
  },
  {
   "cell_type": "code",
   "execution_count": 28,
   "metadata": {},
   "outputs": [
    {
     "name": "stderr",
     "output_type": "stream",
     "text": [
      "Updated 3 paths from 363319e\n"
     ]
    }
   ],
   "source": [
    "!git checkout e439e93c2952b561badb40c56076562c61d416d7 train.csv.dvc validation.csv.dvc test.csv.dvc"
   ]
  },
  {
   "cell_type": "code",
   "execution_count": 29,
   "metadata": {},
   "outputs": [
    {
     "name": "stdout",
     "output_type": "stream",
     "text": [
      "M       test.csv\n",
      "M       train.csv\n",
      "M       validation.csv\n"
     ]
    }
   ],
   "source": [
    "!dvc checkout"
   ]
  },
  {
   "cell_type": "code",
   "execution_count": 30,
   "metadata": {},
   "outputs": [],
   "source": [
    "train_v1 = pd.read_csv(\"train.csv\")\n",
    "val_v1 = pd.read_csv(\"validation.csv\")\n",
    "test_v1 = pd.read_csv(\"test.csv\")"
   ]
  },
  {
   "cell_type": "code",
   "execution_count": 31,
   "metadata": {},
   "outputs": [],
   "source": [
    "def show_distributions(train, val, test):\n",
    "    print(\"Train distribution:\")\n",
    "    print(\"Number of 0s: {}\".format(train[\"spam\"].value_counts()[0]))\n",
    "    print(\"Number of 1s: {}\".format(train[\"spam\"].value_counts()[1]))\n",
    "    print(\"-\"*32)\n",
    "    print(\"Validation distribution:\")\n",
    "    print(\"Number of 0s: {}\".format(val[\"spam\"].value_counts()[0]))\n",
    "    print(\"Number of 1s: {}\".format(val[\"spam\"].value_counts()[1]))\n",
    "    print(\"-\"*32)\n",
    "    print(\"Test distribution:\")\n",
    "    print(\"Number of 0s: {}\".format(test[\"spam\"].value_counts()[0]))\n",
    "    print(\"Number of 1s: {}\".format(test[\"spam\"].value_counts()[1]))\n",
    "    print(\"-\"*32)\n",
    "    \n",
    "    categories1 = train['spam'].value_counts()\n",
    "    categories2 = val['spam'].value_counts()\n",
    "    categories3 = test['spam'].value_counts()\n",
    "\n",
    "    # Create subplots with 1 row and 3 columns\n",
    "    fig, axes = plt.subplots(1, 3, figsize=(15, 5))\n",
    "\n",
    "    # Plotting pie chart for dataset 1\n",
    "    axes[0].pie(categories1, labels=['ham', 'spam'], autopct='%1.1f%%', startangle=90, colors=plt.cm.Paired.colors)\n",
    "    axes[0].set_title('Train ')\n",
    "\n",
    "    # Plotting pie chart for dataset 2\n",
    "    axes[1].pie(categories2, labels=['ham', 'spam'], autopct='%1.1f%%', startangle=90, colors=plt.cm.Paired.colors)\n",
    "    axes[1].set_title('Validation')\n",
    "\n",
    "    # Plotting pie chart for dataset 3\n",
    "    axes[2].pie(categories3, labels=['ham', 'spam'], autopct='%1.1f%%', startangle=90, colors=plt.cm.Paired.colors)\n",
    "    axes[2].set_title('Test')\n",
    "\n",
    "    # Show the legend on the right side for each subplot\n",
    "    axes[0].legend(loc='center left', bbox_to_anchor=(1, 0.5))\n",
    "    axes[1].legend(loc='center left', bbox_to_anchor=(1, 0.5))\n",
    "    axes[2].legend(loc='center left', bbox_to_anchor=(1, 0.5))\n",
    "\n",
    "    plt.show()\n",
    "\n",
    "    return None"
   ]
  },
  {
   "cell_type": "code",
   "execution_count": 32,
   "metadata": {},
   "outputs": [
    {
     "name": "stderr",
     "output_type": "stream",
     "text": [
      "Updated 3 paths from fc29c34\n"
     ]
    }
   ],
   "source": [
    "!git checkout 505b90c32c7ea95882aa358e38f49380cd060e02 train.csv.dvc validation.csv.dvc test.csv.dvc\n"
   ]
  },
  {
   "cell_type": "code",
   "execution_count": 33,
   "metadata": {},
   "outputs": [
    {
     "name": "stdout",
     "output_type": "stream",
     "text": [
      "M       test.csv\n",
      "M       validation.csv\n",
      "M       train.csv\n"
     ]
    }
   ],
   "source": [
    "!dvc checkout\n"
   ]
  },
  {
   "cell_type": "code",
   "execution_count": 34,
   "metadata": {},
   "outputs": [],
   "source": [
    "train_v2 = pd.read_csv(\"train.csv\")\n",
    "val_v2 = pd.read_csv(\"validation.csv\")\n",
    "test_v2 = pd.read_csv(\"test.csv\")"
   ]
  },
  {
   "cell_type": "markdown",
   "metadata": {},
   "source": [
    "#### 1) Data Label Distribution with random seed as 1"
   ]
  },
  {
   "cell_type": "code",
   "execution_count": 35,
   "metadata": {},
   "outputs": [
    {
     "name": "stdout",
     "output_type": "stream",
     "text": [
      "Train distribution:\n",
      "Number of 0s: 3489\n",
      "Number of 1s: 1097\n",
      "--------------------------------\n",
      "Validation distribution:\n",
      "Number of 0s: 356\n",
      "Number of 1s: 98\n",
      "--------------------------------\n",
      "Test distribution:\n",
      "Number of 0s: 515\n",
      "Number of 1s: 173\n",
      "--------------------------------\n"
     ]
    },
    {
     "data": {
      "image/png": "[encoded data removed]",
      "text/plain": [
       "<Figure size 1500x500 with 3 Axes>"
      ]
     },
     "metadata": {},
     "output_type": "display_data"
    }
   ],
   "source": [
    "show_distributions(train_v1, val_v1, test_v1)"
   ]
  },
  {
   "cell_type": "markdown",
   "metadata": {},
   "source": [
    "#### 2) Data Label Distribution with random seed as 2"
   ]
  },
  {
   "cell_type": "code",
   "execution_count": 36,
   "metadata": {},
   "outputs": [
    {
     "name": "stdout",
     "output_type": "stream",
     "text": [
      "Train distribution:\n",
      "Number of 0s: 3504\n",
      "Number of 1s: 1082\n",
      "--------------------------------\n",
      "Validation distribution:\n",
      "Number of 0s: 341\n",
      "Number of 1s: 113\n",
      "--------------------------------\n",
      "Test distribution:\n",
      "Number of 0s: 515\n",
      "Number of 1s: 173\n",
      "--------------------------------\n"
     ]
    },
    {
     "data": {
      "image/png": "[encoded data removed]",
      "text/plain": [
       "<Figure size 1500x500 with 3 Axes>"
      ]
     },
     "metadata": {},
     "output_type": "display_data"
    }
   ],
   "source": [
    "show_distributions(train_v2, val_v2, test_v2)\n"
   ]
  },
  {
   "cell_type": "code",
   "execution_count": null,
   "metadata": {},
   "outputs": [],
   "source": []
  }
 ],
 "metadata": {
  "kernelspec": {
   "display_name": "venv",
   "language": "python",
   "name": "python3"
  },
  "language_info": {
   "codemirror_mode": {
    "name": "ipython",
    "version": 3
   },
   "file_extension": ".py",
   "mimetype": "text/x-python",
   "name": "python",
   "nbconvert_exporter": "python",
   "pygments_lexer": "ipython3",
   "version": "3.10.11"
  }
 },
 "nbformat": 4,
 "nbformat_minor": 2
}
